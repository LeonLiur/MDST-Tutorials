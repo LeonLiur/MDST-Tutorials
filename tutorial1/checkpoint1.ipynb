{
 "cells": [
  {
   "cell_type": "markdown",
   "metadata": {},
   "source": [
    "# Checkpoint 1"
   ]
  },
  {
   "cell_type": "markdown",
   "metadata": {},
   "source": [
    "Reminder: \n",
    "\n",
    "- You are being evaluated for compeletion and effort in this checkpoint. \n",
    "- Avoid manual labor / hard coding as much as possible, everything we've taught you so far are meant to simplify and automate your process."
   ]
  },
  {
   "cell_type": "markdown",
   "metadata": {},
   "source": [
    "We will be working with the same `states_edu.csv` that you should already be familiar with from the tutorial.\n",
    "\n",
    "We investigated Grade 8 reading score in the tutorial. For this checkpoint, you are asked to investigate another test. Here's an overview:\n",
    "\n",
    "* Choose a specific response variable to focus on\n",
    ">Grade 4 Math, Grade 4 Reading, Grade 8 Math\n",
    "* Pick or create features to use\n",
    ">Will all the features be useful in predicting test score? Are some more important than others? Should you standardize, bin, or scale the data?\n",
    "* Explore the data as it relates to that test\n",
    ">Create at least 2 visualizations (graphs), each with a caption describing the graph and what it tells us about the data\n",
    "* Create training and testing data\n",
    ">Do you want to train on all the data? Only data from the last 10 years? Only Michigan data?\n",
    "* Train a ML model to predict outcome \n",
    ">Define what you want to predict, and pick a model in sklearn to use (see sklearn <a href=\"https://scikit-learn.org/stable/modules/linear_model.html\">regressors</a>.\n",
    "* Summarize your findings\n",
    ">Write a 1 paragraph summary of what you did and make a recommendation about if and how student performance can be predicted\n",
    "\n",
    "Include comments throughout your code! Every cleanup and preprocessing task should be documented.\n",
    "\n",
    "Of course, if you're finding this assignment interesting (and we really hope you do!), you are welcome to do more than the requirements! For example, you may want to see if expenditure affects 4th graders more than 8th graders. Maybe you want to look into the extended version of this dataset and see how factors like sex and race are involved. You can include all your work in this notebook when you turn it in -- just always make sure you explain what you did and interpret your results. Good luck!"
   ]
  },
  {
   "cell_type": "markdown",
   "metadata": {},
   "source": [
    "<h2> Data Cleanup </h2>\n",
    "\n",
    "Import `numpy`, `pandas`, and `matplotlib`.\n",
    "\n",
    "(Feel free to import other libraries!)"
   ]
  },
  {
   "cell_type": "code",
   "execution_count": 1,
   "metadata": {},
   "outputs": [],
   "source": [
    "import numpy as np\n",
    "import pandas as pd\n",
    "from matplotlib import pyplot as plt\n",
    "import seaborn as sns"
   ]
  },
  {
   "cell_type": "markdown",
   "metadata": {},
   "source": [
    "Load in the \"states_edu.csv\" dataset and take a look at the head of the data"
   ]
  },
  {
   "cell_type": "code",
   "execution_count": 3,
   "metadata": {},
   "outputs": [],
   "source": [
    "df = pd.read_csv(\"../data/states_edu.csv\")"
   ]
  },
  {
   "cell_type": "markdown",
   "metadata": {},
   "source": [
    "You should always familiarize yourself with what each column in the dataframe represents. Read about the states_edu dataset here: https://www.kaggle.com/noriuk/us-education-datasets-unification-project"
   ]
  },
  {
   "cell_type": "markdown",
   "metadata": {},
   "source": [
    "Use this space to rename columns, deal with missing data, etc. _(optional)_"
   ]
  },
  {
   "cell_type": "code",
   "execution_count": 5,
   "metadata": {},
   "outputs": [
    {
     "data": {
      "text/html": [
       "<div>\n",
       "<style scoped>\n",
       "    .dataframe tbody tr th:only-of-type {\n",
       "        vertical-align: middle;\n",
       "    }\n",
       "\n",
       "    .dataframe tbody tr th {\n",
       "        vertical-align: top;\n",
       "    }\n",
       "\n",
       "    .dataframe thead th {\n",
       "        text-align: right;\n",
       "    }\n",
       "</style>\n",
       "<table border=\"1\" class=\"dataframe\">\n",
       "  <thead>\n",
       "    <tr style=\"text-align: right;\">\n",
       "      <th></th>\n",
       "      <th>PRIMARY_KEY</th>\n",
       "      <th>STATE</th>\n",
       "      <th>YEAR</th>\n",
       "      <th>ENROLL</th>\n",
       "      <th>TOTAL_REVENUE</th>\n",
       "      <th>FEDERAL_REVENUE</th>\n",
       "      <th>STATE_REVENUE</th>\n",
       "      <th>LOCAL_REVENUE</th>\n",
       "      <th>TOTAL_EXPENDITURE</th>\n",
       "      <th>INSTRUCTION_EXPENDITURE</th>\n",
       "      <th>...</th>\n",
       "      <th>GRADES_4_G</th>\n",
       "      <th>GRADES_8_G</th>\n",
       "      <th>GRADES_12_G</th>\n",
       "      <th>GRADES_1_8_G</th>\n",
       "      <th>GRADES_9_12_G</th>\n",
       "      <th>GRADES_ALL_G</th>\n",
       "      <th>AVG_MATH_4_SCORE</th>\n",
       "      <th>AVG_MATH_8_SCORE</th>\n",
       "      <th>AVG_READING_4_SCORE</th>\n",
       "      <th>AVG_READING_8_SCORE</th>\n",
       "    </tr>\n",
       "  </thead>\n",
       "  <tbody>\n",
       "    <tr>\n",
       "      <th>0</th>\n",
       "      <td>1992_ALABAMA</td>\n",
       "      <td>ALABAMA</td>\n",
       "      <td>1992</td>\n",
       "      <td>NaN</td>\n",
       "      <td>2678885.0</td>\n",
       "      <td>304177.0</td>\n",
       "      <td>1659028.0</td>\n",
       "      <td>715680.0</td>\n",
       "      <td>2653798.0</td>\n",
       "      <td>1481703.0</td>\n",
       "      <td>...</td>\n",
       "      <td>57948.0</td>\n",
       "      <td>58025.0</td>\n",
       "      <td>41167.0</td>\n",
       "      <td>NaN</td>\n",
       "      <td>NaN</td>\n",
       "      <td>731634.0</td>\n",
       "      <td>208.0</td>\n",
       "      <td>252.0</td>\n",
       "      <td>207.0</td>\n",
       "      <td>NaN</td>\n",
       "    </tr>\n",
       "    <tr>\n",
       "      <th>1</th>\n",
       "      <td>1992_ALASKA</td>\n",
       "      <td>ALASKA</td>\n",
       "      <td>1992</td>\n",
       "      <td>NaN</td>\n",
       "      <td>1049591.0</td>\n",
       "      <td>106780.0</td>\n",
       "      <td>720711.0</td>\n",
       "      <td>222100.0</td>\n",
       "      <td>972488.0</td>\n",
       "      <td>498362.0</td>\n",
       "      <td>...</td>\n",
       "      <td>9748.0</td>\n",
       "      <td>8789.0</td>\n",
       "      <td>6714.0</td>\n",
       "      <td>NaN</td>\n",
       "      <td>NaN</td>\n",
       "      <td>122487.0</td>\n",
       "      <td>NaN</td>\n",
       "      <td>NaN</td>\n",
       "      <td>NaN</td>\n",
       "      <td>NaN</td>\n",
       "    </tr>\n",
       "    <tr>\n",
       "      <th>2</th>\n",
       "      <td>1992_ARIZONA</td>\n",
       "      <td>ARIZONA</td>\n",
       "      <td>1992</td>\n",
       "      <td>NaN</td>\n",
       "      <td>3258079.0</td>\n",
       "      <td>297888.0</td>\n",
       "      <td>1369815.0</td>\n",
       "      <td>1590376.0</td>\n",
       "      <td>3401580.0</td>\n",
       "      <td>1435908.0</td>\n",
       "      <td>...</td>\n",
       "      <td>55433.0</td>\n",
       "      <td>49081.0</td>\n",
       "      <td>37410.0</td>\n",
       "      <td>NaN</td>\n",
       "      <td>NaN</td>\n",
       "      <td>673477.0</td>\n",
       "      <td>215.0</td>\n",
       "      <td>265.0</td>\n",
       "      <td>209.0</td>\n",
       "      <td>NaN</td>\n",
       "    </tr>\n",
       "    <tr>\n",
       "      <th>3</th>\n",
       "      <td>1992_ARKANSAS</td>\n",
       "      <td>ARKANSAS</td>\n",
       "      <td>1992</td>\n",
       "      <td>NaN</td>\n",
       "      <td>1711959.0</td>\n",
       "      <td>178571.0</td>\n",
       "      <td>958785.0</td>\n",
       "      <td>574603.0</td>\n",
       "      <td>1743022.0</td>\n",
       "      <td>964323.0</td>\n",
       "      <td>...</td>\n",
       "      <td>34632.0</td>\n",
       "      <td>36011.0</td>\n",
       "      <td>27651.0</td>\n",
       "      <td>NaN</td>\n",
       "      <td>NaN</td>\n",
       "      <td>441490.0</td>\n",
       "      <td>210.0</td>\n",
       "      <td>256.0</td>\n",
       "      <td>211.0</td>\n",
       "      <td>NaN</td>\n",
       "    </tr>\n",
       "    <tr>\n",
       "      <th>4</th>\n",
       "      <td>1992_CALIFORNIA</td>\n",
       "      <td>CALIFORNIA</td>\n",
       "      <td>1992</td>\n",
       "      <td>NaN</td>\n",
       "      <td>26260025.0</td>\n",
       "      <td>2072470.0</td>\n",
       "      <td>16546514.0</td>\n",
       "      <td>7641041.0</td>\n",
       "      <td>27138832.0</td>\n",
       "      <td>14358922.0</td>\n",
       "      <td>...</td>\n",
       "      <td>418418.0</td>\n",
       "      <td>363296.0</td>\n",
       "      <td>270675.0</td>\n",
       "      <td>NaN</td>\n",
       "      <td>NaN</td>\n",
       "      <td>5254844.0</td>\n",
       "      <td>208.0</td>\n",
       "      <td>261.0</td>\n",
       "      <td>202.0</td>\n",
       "      <td>NaN</td>\n",
       "    </tr>\n",
       "  </tbody>\n",
       "</table>\n",
       "<p>5 rows × 25 columns</p>\n",
       "</div>"
      ],
      "text/plain": [
       "       PRIMARY_KEY       STATE  YEAR  ENROLL  TOTAL_REVENUE  FEDERAL_REVENUE  \\\n",
       "0     1992_ALABAMA     ALABAMA  1992     NaN      2678885.0         304177.0   \n",
       "1      1992_ALASKA      ALASKA  1992     NaN      1049591.0         106780.0   \n",
       "2     1992_ARIZONA     ARIZONA  1992     NaN      3258079.0         297888.0   \n",
       "3    1992_ARKANSAS    ARKANSAS  1992     NaN      1711959.0         178571.0   \n",
       "4  1992_CALIFORNIA  CALIFORNIA  1992     NaN     26260025.0        2072470.0   \n",
       "\n",
       "   STATE_REVENUE  LOCAL_REVENUE  TOTAL_EXPENDITURE  INSTRUCTION_EXPENDITURE  \\\n",
       "0      1659028.0       715680.0          2653798.0                1481703.0   \n",
       "1       720711.0       222100.0           972488.0                 498362.0   \n",
       "2      1369815.0      1590376.0          3401580.0                1435908.0   \n",
       "3       958785.0       574603.0          1743022.0                 964323.0   \n",
       "4     16546514.0      7641041.0         27138832.0               14358922.0   \n",
       "\n",
       "   ...  GRADES_4_G  GRADES_8_G  GRADES_12_G  GRADES_1_8_G  GRADES_9_12_G  \\\n",
       "0  ...     57948.0     58025.0      41167.0           NaN            NaN   \n",
       "1  ...      9748.0      8789.0       6714.0           NaN            NaN   \n",
       "2  ...     55433.0     49081.0      37410.0           NaN            NaN   \n",
       "3  ...     34632.0     36011.0      27651.0           NaN            NaN   \n",
       "4  ...    418418.0    363296.0     270675.0           NaN            NaN   \n",
       "\n",
       "   GRADES_ALL_G  AVG_MATH_4_SCORE  AVG_MATH_8_SCORE  AVG_READING_4_SCORE  \\\n",
       "0      731634.0             208.0             252.0                207.0   \n",
       "1      122487.0               NaN               NaN                  NaN   \n",
       "2      673477.0             215.0             265.0                209.0   \n",
       "3      441490.0             210.0             256.0                211.0   \n",
       "4     5254844.0             208.0             261.0                202.0   \n",
       "\n",
       "   AVG_READING_8_SCORE  \n",
       "0                  NaN  \n",
       "1                  NaN  \n",
       "2                  NaN  \n",
       "3                  NaN  \n",
       "4                  NaN  \n",
       "\n",
       "[5 rows x 25 columns]"
      ]
     },
     "execution_count": 5,
     "metadata": {},
     "output_type": "execute_result"
    }
   ],
   "source": [
    "df.head()"
   ]
  },
  {
   "cell_type": "code",
   "execution_count": 4,
   "metadata": {},
   "outputs": [
    {
     "data": {
      "text/html": [
       "<div>\n",
       "<style scoped>\n",
       "    .dataframe tbody tr th:only-of-type {\n",
       "        vertical-align: middle;\n",
       "    }\n",
       "\n",
       "    .dataframe tbody tr th {\n",
       "        vertical-align: top;\n",
       "    }\n",
       "\n",
       "    .dataframe thead th {\n",
       "        text-align: right;\n",
       "    }\n",
       "</style>\n",
       "<table border=\"1\" class=\"dataframe\">\n",
       "  <thead>\n",
       "    <tr style=\"text-align: right;\">\n",
       "      <th></th>\n",
       "      <th>YEAR</th>\n",
       "      <th>ENROLL</th>\n",
       "      <th>TOTAL_REVENUE</th>\n",
       "      <th>FEDERAL_REVENUE</th>\n",
       "      <th>STATE_REVENUE</th>\n",
       "      <th>LOCAL_REVENUE</th>\n",
       "      <th>TOTAL_EXPENDITURE</th>\n",
       "      <th>INSTRUCTION_EXPENDITURE</th>\n",
       "      <th>SUPPORT_SERVICES_EXPENDITURE</th>\n",
       "      <th>OTHER_EXPENDITURE</th>\n",
       "      <th>...</th>\n",
       "      <th>GRADES_4_G</th>\n",
       "      <th>GRADES_8_G</th>\n",
       "      <th>GRADES_12_G</th>\n",
       "      <th>GRADES_1_8_G</th>\n",
       "      <th>GRADES_9_12_G</th>\n",
       "      <th>GRADES_ALL_G</th>\n",
       "      <th>AVG_MATH_4_SCORE</th>\n",
       "      <th>AVG_MATH_8_SCORE</th>\n",
       "      <th>AVG_READING_4_SCORE</th>\n",
       "      <th>AVG_READING_8_SCORE</th>\n",
       "    </tr>\n",
       "  </thead>\n",
       "  <tbody>\n",
       "    <tr>\n",
       "      <th>count</th>\n",
       "      <td>1715.000000</td>\n",
       "      <td>1.224000e+03</td>\n",
       "      <td>1.275000e+03</td>\n",
       "      <td>1.275000e+03</td>\n",
       "      <td>1.275000e+03</td>\n",
       "      <td>1.275000e+03</td>\n",
       "      <td>1.275000e+03</td>\n",
       "      <td>1.275000e+03</td>\n",
       "      <td>1.275000e+03</td>\n",
       "      <td>1.224000e+03</td>\n",
       "      <td>...</td>\n",
       "      <td>1632.000000</td>\n",
       "      <td>1632.000000</td>\n",
       "      <td>1632.000000</td>\n",
       "      <td>1.020000e+03</td>\n",
       "      <td>1.071000e+03</td>\n",
       "      <td>1.632000e+03</td>\n",
       "      <td>565.000000</td>\n",
       "      <td>602.000000</td>\n",
       "      <td>650.000000</td>\n",
       "      <td>562.000000</td>\n",
       "    </tr>\n",
       "    <tr>\n",
       "      <th>mean</th>\n",
       "      <td>2002.075219</td>\n",
       "      <td>9.175416e+05</td>\n",
       "      <td>9.102045e+06</td>\n",
       "      <td>7.677799e+05</td>\n",
       "      <td>4.223743e+06</td>\n",
       "      <td>4.110522e+06</td>\n",
       "      <td>9.206242e+06</td>\n",
       "      <td>4.768010e+06</td>\n",
       "      <td>2.682587e+06</td>\n",
       "      <td>4.299509e+05</td>\n",
       "      <td>...</td>\n",
       "      <td>69166.507966</td>\n",
       "      <td>68106.537377</td>\n",
       "      <td>58420.870711</td>\n",
       "      <td>5.779547e+05</td>\n",
       "      <td>2.820691e+05</td>\n",
       "      <td>9.139695e+05</td>\n",
       "      <td>236.327434</td>\n",
       "      <td>278.280731</td>\n",
       "      <td>218.806154</td>\n",
       "      <td>263.558719</td>\n",
       "    </tr>\n",
       "    <tr>\n",
       "      <th>std</th>\n",
       "      <td>9.568621</td>\n",
       "      <td>1.066514e+06</td>\n",
       "      <td>1.175962e+07</td>\n",
       "      <td>1.146992e+06</td>\n",
       "      <td>5.549735e+06</td>\n",
       "      <td>5.489562e+06</td>\n",
       "      <td>1.199279e+07</td>\n",
       "      <td>6.300569e+06</td>\n",
       "      <td>3.357214e+06</td>\n",
       "      <td>5.347893e+05</td>\n",
       "      <td>...</td>\n",
       "      <td>79957.990356</td>\n",
       "      <td>77965.847263</td>\n",
       "      <td>67438.530709</td>\n",
       "      <td>6.757837e+05</td>\n",
       "      <td>3.307098e+05</td>\n",
       "      <td>1.055893e+06</td>\n",
       "      <td>9.285505</td>\n",
       "      <td>10.343482</td>\n",
       "      <td>7.681805</td>\n",
       "      <td>6.612601</td>\n",
       "    </tr>\n",
       "    <tr>\n",
       "      <th>min</th>\n",
       "      <td>1986.000000</td>\n",
       "      <td>4.386600e+04</td>\n",
       "      <td>4.656500e+05</td>\n",
       "      <td>3.102000e+04</td>\n",
       "      <td>0.000000e+00</td>\n",
       "      <td>2.209300e+04</td>\n",
       "      <td>4.816650e+05</td>\n",
       "      <td>2.655490e+05</td>\n",
       "      <td>1.399630e+05</td>\n",
       "      <td>1.154100e+04</td>\n",
       "      <td>...</td>\n",
       "      <td>4577.000000</td>\n",
       "      <td>3371.000000</td>\n",
       "      <td>2572.000000</td>\n",
       "      <td>3.769800e+04</td>\n",
       "      <td>1.353000e+04</td>\n",
       "      <td>6.844900e+04</td>\n",
       "      <td>192.000000</td>\n",
       "      <td>231.000000</td>\n",
       "      <td>179.000000</td>\n",
       "      <td>236.000000</td>\n",
       "    </tr>\n",
       "    <tr>\n",
       "      <th>25%</th>\n",
       "      <td>1994.000000</td>\n",
       "      <td>2.645145e+05</td>\n",
       "      <td>2.189504e+06</td>\n",
       "      <td>1.899575e+05</td>\n",
       "      <td>1.165776e+06</td>\n",
       "      <td>7.151210e+05</td>\n",
       "      <td>2.170404e+06</td>\n",
       "      <td>1.171336e+06</td>\n",
       "      <td>6.380760e+05</td>\n",
       "      <td>1.034492e+05</td>\n",
       "      <td>...</td>\n",
       "      <td>18971.500000</td>\n",
       "      <td>19594.250000</td>\n",
       "      <td>16076.500000</td>\n",
       "      <td>1.649250e+05</td>\n",
       "      <td>8.060800e+04</td>\n",
       "      <td>2.480832e+05</td>\n",
       "      <td>232.000000</td>\n",
       "      <td>272.000000</td>\n",
       "      <td>215.000000</td>\n",
       "      <td>260.000000</td>\n",
       "    </tr>\n",
       "    <tr>\n",
       "      <th>50%</th>\n",
       "      <td>2002.000000</td>\n",
       "      <td>6.499335e+05</td>\n",
       "      <td>5.085826e+06</td>\n",
       "      <td>4.035480e+05</td>\n",
       "      <td>2.537754e+06</td>\n",
       "      <td>2.058996e+06</td>\n",
       "      <td>5.242672e+06</td>\n",
       "      <td>2.658253e+06</td>\n",
       "      <td>1.525471e+06</td>\n",
       "      <td>2.717040e+05</td>\n",
       "      <td>...</td>\n",
       "      <td>49087.000000</td>\n",
       "      <td>47880.000000</td>\n",
       "      <td>39408.000000</td>\n",
       "      <td>4.051115e+05</td>\n",
       "      <td>1.869190e+05</td>\n",
       "      <td>6.458050e+05</td>\n",
       "      <td>238.000000</td>\n",
       "      <td>280.500000</td>\n",
       "      <td>220.000000</td>\n",
       "      <td>265.000000</td>\n",
       "    </tr>\n",
       "    <tr>\n",
       "      <th>75%</th>\n",
       "      <td>2010.000000</td>\n",
       "      <td>1.010532e+06</td>\n",
       "      <td>1.084516e+07</td>\n",
       "      <td>8.279320e+05</td>\n",
       "      <td>5.055548e+06</td>\n",
       "      <td>4.755293e+06</td>\n",
       "      <td>1.074420e+07</td>\n",
       "      <td>5.561959e+06</td>\n",
       "      <td>3.222924e+06</td>\n",
       "      <td>5.172222e+05</td>\n",
       "      <td>...</td>\n",
       "      <td>78504.250000</td>\n",
       "      <td>78976.000000</td>\n",
       "      <td>69397.250000</td>\n",
       "      <td>6.439752e+05</td>\n",
       "      <td>3.223280e+05</td>\n",
       "      <td>1.043420e+06</td>\n",
       "      <td>242.000000</td>\n",
       "      <td>286.000000</td>\n",
       "      <td>224.000000</td>\n",
       "      <td>268.000000</td>\n",
       "    </tr>\n",
       "    <tr>\n",
       "      <th>max</th>\n",
       "      <td>2019.000000</td>\n",
       "      <td>6.307022e+06</td>\n",
       "      <td>8.921726e+07</td>\n",
       "      <td>9.990221e+06</td>\n",
       "      <td>5.090457e+07</td>\n",
       "      <td>3.610526e+07</td>\n",
       "      <td>8.532013e+07</td>\n",
       "      <td>4.396452e+07</td>\n",
       "      <td>2.605802e+07</td>\n",
       "      <td>3.995951e+06</td>\n",
       "      <td>...</td>\n",
       "      <td>493415.000000</td>\n",
       "      <td>500143.000000</td>\n",
       "      <td>498403.000000</td>\n",
       "      <td>3.929869e+06</td>\n",
       "      <td>2.013687e+06</td>\n",
       "      <td>6.441557e+06</td>\n",
       "      <td>253.000000</td>\n",
       "      <td>301.000000</td>\n",
       "      <td>237.000000</td>\n",
       "      <td>280.000000</td>\n",
       "    </tr>\n",
       "  </tbody>\n",
       "</table>\n",
       "<p>8 rows × 23 columns</p>\n",
       "</div>"
      ],
      "text/plain": [
       "              YEAR        ENROLL  TOTAL_REVENUE  FEDERAL_REVENUE  \\\n",
       "count  1715.000000  1.224000e+03   1.275000e+03     1.275000e+03   \n",
       "mean   2002.075219  9.175416e+05   9.102045e+06     7.677799e+05   \n",
       "std       9.568621  1.066514e+06   1.175962e+07     1.146992e+06   \n",
       "min    1986.000000  4.386600e+04   4.656500e+05     3.102000e+04   \n",
       "25%    1994.000000  2.645145e+05   2.189504e+06     1.899575e+05   \n",
       "50%    2002.000000  6.499335e+05   5.085826e+06     4.035480e+05   \n",
       "75%    2010.000000  1.010532e+06   1.084516e+07     8.279320e+05   \n",
       "max    2019.000000  6.307022e+06   8.921726e+07     9.990221e+06   \n",
       "\n",
       "       STATE_REVENUE  LOCAL_REVENUE  TOTAL_EXPENDITURE  \\\n",
       "count   1.275000e+03   1.275000e+03       1.275000e+03   \n",
       "mean    4.223743e+06   4.110522e+06       9.206242e+06   \n",
       "std     5.549735e+06   5.489562e+06       1.199279e+07   \n",
       "min     0.000000e+00   2.209300e+04       4.816650e+05   \n",
       "25%     1.165776e+06   7.151210e+05       2.170404e+06   \n",
       "50%     2.537754e+06   2.058996e+06       5.242672e+06   \n",
       "75%     5.055548e+06   4.755293e+06       1.074420e+07   \n",
       "max     5.090457e+07   3.610526e+07       8.532013e+07   \n",
       "\n",
       "       INSTRUCTION_EXPENDITURE  SUPPORT_SERVICES_EXPENDITURE  \\\n",
       "count             1.275000e+03                  1.275000e+03   \n",
       "mean              4.768010e+06                  2.682587e+06   \n",
       "std               6.300569e+06                  3.357214e+06   \n",
       "min               2.655490e+05                  1.399630e+05   \n",
       "25%               1.171336e+06                  6.380760e+05   \n",
       "50%               2.658253e+06                  1.525471e+06   \n",
       "75%               5.561959e+06                  3.222924e+06   \n",
       "max               4.396452e+07                  2.605802e+07   \n",
       "\n",
       "       OTHER_EXPENDITURE  ...     GRADES_4_G     GRADES_8_G    GRADES_12_G  \\\n",
       "count       1.224000e+03  ...    1632.000000    1632.000000    1632.000000   \n",
       "mean        4.299509e+05  ...   69166.507966   68106.537377   58420.870711   \n",
       "std         5.347893e+05  ...   79957.990356   77965.847263   67438.530709   \n",
       "min         1.154100e+04  ...    4577.000000    3371.000000    2572.000000   \n",
       "25%         1.034492e+05  ...   18971.500000   19594.250000   16076.500000   \n",
       "50%         2.717040e+05  ...   49087.000000   47880.000000   39408.000000   \n",
       "75%         5.172222e+05  ...   78504.250000   78976.000000   69397.250000   \n",
       "max         3.995951e+06  ...  493415.000000  500143.000000  498403.000000   \n",
       "\n",
       "       GRADES_1_8_G  GRADES_9_12_G  GRADES_ALL_G  AVG_MATH_4_SCORE  \\\n",
       "count  1.020000e+03   1.071000e+03  1.632000e+03        565.000000   \n",
       "mean   5.779547e+05   2.820691e+05  9.139695e+05        236.327434   \n",
       "std    6.757837e+05   3.307098e+05  1.055893e+06          9.285505   \n",
       "min    3.769800e+04   1.353000e+04  6.844900e+04        192.000000   \n",
       "25%    1.649250e+05   8.060800e+04  2.480832e+05        232.000000   \n",
       "50%    4.051115e+05   1.869190e+05  6.458050e+05        238.000000   \n",
       "75%    6.439752e+05   3.223280e+05  1.043420e+06        242.000000   \n",
       "max    3.929869e+06   2.013687e+06  6.441557e+06        253.000000   \n",
       "\n",
       "       AVG_MATH_8_SCORE  AVG_READING_4_SCORE  AVG_READING_8_SCORE  \n",
       "count        602.000000           650.000000           562.000000  \n",
       "mean         278.280731           218.806154           263.558719  \n",
       "std           10.343482             7.681805             6.612601  \n",
       "min          231.000000           179.000000           236.000000  \n",
       "25%          272.000000           215.000000           260.000000  \n",
       "50%          280.500000           220.000000           265.000000  \n",
       "75%          286.000000           224.000000           268.000000  \n",
       "max          301.000000           237.000000           280.000000  \n",
       "\n",
       "[8 rows x 23 columns]"
      ]
     },
     "execution_count": 4,
     "metadata": {},
     "output_type": "execute_result"
    }
   ],
   "source": [
    "df.describe()"
   ]
  },
  {
   "cell_type": "code",
   "execution_count": 60,
   "metadata": {},
   "outputs": [],
   "source": [
    "states = ['Alabama', 'Alaska', 'Arizona', 'Arkansas', 'California', 'Colorado', 'Connecticut', 'Delaware', 'Florida', 'Georgia', 'Hawaii', 'Idaho', 'Illinois', 'Indiana', 'Iowa', 'Kansas', 'Kentucky', 'Louisiana', 'Maine', 'Maryland', 'Massachusetts', 'Michigan', 'Minnesota', 'Mississippi', 'Missouri', 'Montana', 'Nebraska', 'Nevada', 'New Hampshire', 'New Jersey', 'New Mexico', 'New York', 'North Carolina', 'North Dakota', 'Ohio', 'Oklahoma', 'Oregon', 'Pennsylvania', 'Rhode Island', 'South Carolina', 'South Dakota', 'Tennessee', 'Texas', 'Utah', 'Vermont', 'Virginia', 'Washington', 'West Virginia', 'Wisconsin', 'Wyoming']\n",
    "state_to_num = {state: i for i, state in enumerate(states)}\n",
    "df[\"STATE_CAT\"] = df[\"STATE\"].map(state_to_num)"
   ]
  },
  {
   "cell_type": "markdown",
   "metadata": {},
   "source": [
    "<h2>Exploratory Data Analysis (EDA) </h2>"
   ]
  },
  {
   "cell_type": "markdown",
   "metadata": {},
   "source": [
    "Chosen Outcome Variable for Test: *GRADE 4 MATH*"
   ]
  },
  {
   "cell_type": "markdown",
   "metadata": {},
   "source": [
    "How many years of data are logged in our dataset? "
   ]
  },
  {
   "cell_type": "code",
   "execution_count": 6,
   "metadata": {},
   "outputs": [
    {
     "data": {
      "text/plain": [
       "33"
      ]
     },
     "execution_count": 6,
     "metadata": {},
     "output_type": "execute_result"
    }
   ],
   "source": [
    "len(df[\"YEAR\"].unique())"
   ]
  },
  {
   "cell_type": "markdown",
   "metadata": {},
   "source": [
    "Let's compare Michigan to Ohio. Which state has the higher average outcome score across all years?"
   ]
  },
  {
   "cell_type": "code",
   "execution_count": 20,
   "metadata": {},
   "outputs": [
    {
     "data": {
      "text/plain": [
       "STATE\n",
       "MICHIGAN    234.363636\n",
       "OHIO        239.454545\n",
       "Name: AVG_MATH_4_SCORE, dtype: float64"
      ]
     },
     "execution_count": 20,
     "metadata": {},
     "output_type": "execute_result"
    }
   ],
   "source": [
    "df.groupby(\"STATE\").mean().loc[[\"MICHIGAN\", \"OHIO\"], \"AVG_MATH_4_SCORE\"]"
   ]
  },
  {
   "cell_type": "markdown",
   "metadata": {},
   "source": [
    "Find the average for your outcome score across all states in 2019"
   ]
  },
  {
   "cell_type": "code",
   "execution_count": 21,
   "metadata": {},
   "outputs": [
    {
     "data": {
      "text/plain": [
       "STATE\n",
       "ALABAMA                 226.090909\n",
       "ALASKA                  234.777778\n",
       "ARIZONA                 230.909091\n",
       "ARKANSAS                231.545455\n",
       "CALIFORNIA              227.909091\n",
       "COLORADO                239.400000\n",
       "CONNECTICUT             239.909091\n",
       "DELAWARE                237.200000\n",
       "DISTRICT_OF_COLUMBIA    216.545455\n",
       "DODEA                   241.600000\n",
       "FLORIDA                 238.800000\n",
       "GEORGIA                 232.545455\n",
       "HAWAII                  232.181818\n",
       "IDAHO                   237.000000\n",
       "ILLINOIS                235.400000\n",
       "INDIANA                 241.181818\n",
       "IOWA                    240.090909\n",
       "KANSAS                  242.600000\n",
       "KENTUCKY                233.636364\n",
       "LOUISIANA               226.636364\n",
       "MAINE                   240.000000\n",
       "MARYLAND                236.818182\n",
       "MASSACHUSETTS           246.000000\n",
       "MICHIGAN                234.363636\n",
       "MINNESOTA               245.000000\n",
       "MISSISSIPPI             226.272727\n",
       "MISSOURI                236.090909\n",
       "MONTANA                 240.400000\n",
       "NATIONAL                233.846154\n",
       "NEBRASKA                238.000000\n",
       "NEVADA                  232.000000\n",
       "NEW_HAMPSHIRE           246.300000\n",
       "NEW_JERSEY              244.000000\n",
       "NEW_MEXICO              226.272727\n",
       "NEW_YORK                235.363636\n",
       "NORTH_CAROLINA          238.909091\n",
       "NORTH_DAKOTA            241.181818\n",
       "OHIO                    239.454545\n",
       "OKLAHOMA                233.727273\n",
       "OREGON                  235.600000\n",
       "PENNSYLVANIA            240.800000\n",
       "RHODE_ISLAND            234.090909\n",
       "SOUTH_CAROLINA          232.818182\n",
       "SOUTH_DAKOTA            240.777778\n",
       "TENNESSEE               231.545455\n",
       "TEXAS                   238.363636\n",
       "UTAH                    238.090909\n",
       "VERMONT                 243.000000\n",
       "VIRGINIA                240.909091\n",
       "WASHINGTON              242.333333\n",
       "WEST_VIRGINIA           231.181818\n",
       "WISCONSIN               241.000000\n",
       "WYOMING                 241.454545\n",
       "Name: AVG_MATH_4_SCORE, dtype: float64"
      ]
     },
     "execution_count": 21,
     "metadata": {},
     "output_type": "execute_result"
    }
   ],
   "source": [
    "df.groupby(\"STATE\").mean()[\"AVG_MATH_4_SCORE\"]"
   ]
  },
  {
   "cell_type": "markdown",
   "metadata": {},
   "source": [
    "Find the maximum outcome score for every state. \n",
    "\n",
    "Refer to the `Grouping and Aggregating` section in Tutorial 0 if you are stuck."
   ]
  },
  {
   "cell_type": "code",
   "execution_count": 22,
   "metadata": {},
   "outputs": [
    {
     "data": {
      "text/plain": [
       "STATE\n",
       "ALABAMA                 233.0\n",
       "ALASKA                  237.0\n",
       "ARIZONA                 240.0\n",
       "ARKANSAS                240.0\n",
       "CALIFORNIA              235.0\n",
       "COLORADO                247.0\n",
       "CONNECTICUT             245.0\n",
       "DELAWARE                243.0\n",
       "DISTRICT_OF_COLUMBIA    235.0\n",
       "DODEA                   250.0\n",
       "FLORIDA                 246.0\n",
       "GEORGIA                 240.0\n",
       "HAWAII                  243.0\n",
       "IDAHO                   242.0\n",
       "ILLINOIS                239.0\n",
       "INDIANA                 249.0\n",
       "IOWA                    246.0\n",
       "KANSAS                  248.0\n",
       "KENTUCKY                242.0\n",
       "LOUISIANA               234.0\n",
       "MAINE                   246.0\n",
       "MARYLAND                247.0\n",
       "MASSACHUSETTS           253.0\n",
       "MICHIGAN                238.0\n",
       "MINNESOTA               253.0\n",
       "MISSISSIPPI             241.0\n",
       "MISSOURI                241.0\n",
       "MONTANA                 244.0\n",
       "NATIONAL                242.0\n",
       "NEBRASKA                246.0\n",
       "NEVADA                  237.0\n",
       "NEW_HAMPSHIRE           253.0\n",
       "NEW_JERSEY              249.0\n",
       "NEW_MEXICO              233.0\n",
       "NEW_YORK                243.0\n",
       "NORTH_CAROLINA          245.0\n",
       "NORTH_DAKOTA            246.0\n",
       "OHIO                    246.0\n",
       "OKLAHOMA                240.0\n",
       "OREGON                  240.0\n",
       "PENNSYLVANIA            246.0\n",
       "RHODE_ISLAND            242.0\n",
       "SOUTH_CAROLINA          238.0\n",
       "SOUTH_DAKOTA            242.0\n",
       "TENNESSEE               241.0\n",
       "TEXAS                   244.0\n",
       "UTAH                    244.0\n",
       "VERMONT                 248.0\n",
       "VIRGINIA                248.0\n",
       "WASHINGTON              246.0\n",
       "WEST_VIRGINIA           237.0\n",
       "WISCONSIN               245.0\n",
       "WYOMING                 248.0\n",
       "Name: AVG_MATH_4_SCORE, dtype: float64"
      ]
     },
     "execution_count": 22,
     "metadata": {},
     "output_type": "execute_result"
    }
   ],
   "source": [
    "df.groupby(\"STATE\").max()[\"AVG_MATH_4_SCORE\"]"
   ]
  },
  {
   "cell_type": "markdown",
   "metadata": {},
   "source": [
    "<h2> Feature Engineering </h2>\n",
    "\n",
    "After exploring the data, you can choose to modify features that you would use to predict the performance of the students on your chosen response variable. \n",
    "\n",
    "You can also create your own features. For example, perhaps you figured that maybe a state's expenditure per student may affect their overall academic performance so you create a expenditure_per_student feature.\n",
    "\n",
    "Use this space to modify or create features."
   ]
  },
  {
   "cell_type": "code",
   "execution_count": 25,
   "metadata": {},
   "outputs": [
    {
     "data": {
      "text/plain": [
       "0       45.796197\n",
       "1       99.762823\n",
       "2       61.363809\n",
       "3       50.329811\n",
       "4       64.860575\n",
       "          ...    \n",
       "1710          NaN\n",
       "1711          NaN\n",
       "1712          NaN\n",
       "1713          NaN\n",
       "1714          NaN\n",
       "Name: EXPENDITURE_PER_STUDENT, Length: 1715, dtype: float64"
      ]
     },
     "execution_count": 25,
     "metadata": {},
     "output_type": "execute_result"
    }
   ],
   "source": [
    "df[\"EXPENDITURE_PER_STUDENT\"] = df[\"TOTAL_EXPENDITURE\"] / df[\"GRADES_4_G\"]\n",
    "df[\"EXPENDITURE_PER_STUDENT\"]"
   ]
  },
  {
   "cell_type": "markdown",
   "metadata": {},
   "source": [
    "Feature engineering justification: we can gain an insight into what emphasis the school places on education by analyzing how much it spends per student. This can help us predict the students' score."
   ]
  },
  {
   "cell_type": "markdown",
   "metadata": {},
   "source": [
    "<h2>Visualization</h2>\n",
    "\n",
    "Investigate the relationship between your chosen response variable and at least two predictors using visualizations. Write down your observations.\n",
    "\n",
    "**Visualization 1**"
   ]
  },
  {
   "cell_type": "code",
   "execution_count": 29,
   "metadata": {},
   "outputs": [
    {
     "data": {
      "text/plain": [
       "<AxesSubplot:>"
      ]
     },
     "execution_count": 29,
     "metadata": {},
     "output_type": "execute_result"
    },
    {
     "data": {
      "image/png": "[encoded data removed]",
      "text/plain": [
       "<Figure size 720x720 with 2 Axes>"
      ]
     },
     "metadata": {
      "needs_background": "light"
     },
     "output_type": "display_data"
    }
   ],
   "source": [
    "_ = plt.figure(figsize=(10, 10))\n",
    "sns.heatmap(df.corr())"
   ]
  },
  {
   "cell_type": "markdown",
   "metadata": {},
   "source": [
    "Correlation heatmap for all the features in our dataset. **we can see that our custom-engineered feature has a good correlation.**"
   ]
  },
  {
   "cell_type": "markdown",
   "metadata": {},
   "source": [
    "**Visualization 2**"
   ]
  },
  {
   "cell_type": "code",
   "execution_count": 31,
   "metadata": {},
   "outputs": [
    {
     "data": {
      "text/plain": [
       "<AxesSubplot:xlabel='EXPENDITURE_PER_STUDENT', ylabel='AVG_MATH_4_SCORE'>"
      ]
     },
     "execution_count": 31,
     "metadata": {},
     "output_type": "execute_result"
    },
    {
     "data": {
      "image/png": "[encoded data removed]",
      "text/plain": [
       "<Figure size 720x720 with 1 Axes>"
      ]
     },
     "metadata": {
      "needs_background": "light"
     },
     "output_type": "display_data"
    }
   ],
   "source": [
    "_ = plt.figure(figsize=(10, 10))\n",
    "sns.scatterplot(data=df, x=\"EXPENDITURE_PER_STUDENT\", y=\"AVG_MATH_4_SCORE\")"
   ]
  },
  {
   "cell_type": "markdown",
   "metadata": {},
   "source": [
    "We see a moderately strong linear correlation. This tells us we do not need further FE to use this feature."
   ]
  },
  {
   "cell_type": "code",
   "execution_count": 32,
   "metadata": {},
   "outputs": [
    {
     "data": {
      "text/plain": [
       "Index(['PRIMARY_KEY', 'STATE', 'YEAR', 'ENROLL', 'TOTAL_REVENUE',\n",
       "       'FEDERAL_REVENUE', 'STATE_REVENUE', 'LOCAL_REVENUE',\n",
       "       'TOTAL_EXPENDITURE', 'INSTRUCTION_EXPENDITURE',\n",
       "       'SUPPORT_SERVICES_EXPENDITURE', 'OTHER_EXPENDITURE',\n",
       "       'CAPITAL_OUTLAY_EXPENDITURE', 'GRADES_PK_G', 'GRADES_KG_G',\n",
       "       'GRADES_4_G', 'GRADES_8_G', 'GRADES_12_G', 'GRADES_1_8_G',\n",
       "       'GRADES_9_12_G', 'GRADES_ALL_G', 'AVG_MATH_4_SCORE', 'AVG_MATH_8_SCORE',\n",
       "       'AVG_READING_4_SCORE', 'AVG_READING_8_SCORE',\n",
       "       'EXPENDITURE_PER_STUDENT'],\n",
       "      dtype='object')"
      ]
     },
     "execution_count": 32,
     "metadata": {},
     "output_type": "execute_result"
    }
   ],
   "source": [
    "df.columns"
   ]
  },
  {
   "cell_type": "markdown",
   "metadata": {},
   "source": [
    "<h2> Data Creation </h2>\n",
    "\n",
    "_Use this space to create train/test data_"
   ]
  },
  {
   "cell_type": "code",
   "execution_count": null,
   "metadata": {},
   "outputs": [],
   "source": [
    "from sklearn.model_selection import train_test_split"
   ]
  },
  {
   "cell_type": "code",
   "execution_count": 62,
   "metadata": {},
   "outputs": [],
   "source": [
    "features = [col for col in df.columns if col not in (\"PRIMARY_KEY\", \"AVG_MATH_4_SCORE\", \"STATE\")]\n",
    "X = df[features]\n",
    "y = df[\"AVG_MATH_4_SCORE\"]"
   ]
  },
  {
   "cell_type": "code",
   "execution_count": 63,
   "metadata": {},
   "outputs": [],
   "source": [
    "from sklearn.model_selection import train_test_split\n",
    "X_train, X_test, y_train, y_test = train_test_split(X, y, test_size=0.3, random_state=42)"
   ]
  },
  {
   "cell_type": "code",
   "execution_count": 68,
   "metadata": {},
   "outputs": [
    {
     "data": {
      "text/plain": [
       "YEAR                              int64\n",
       "ENROLL                          float64\n",
       "TOTAL_REVENUE                   float64\n",
       "FEDERAL_REVENUE                 float64\n",
       "STATE_REVENUE                   float64\n",
       "LOCAL_REVENUE                   float64\n",
       "TOTAL_EXPENDITURE               float64\n",
       "INSTRUCTION_EXPENDITURE         float64\n",
       "SUPPORT_SERVICES_EXPENDITURE    float64\n",
       "OTHER_EXPENDITURE               float64\n",
       "CAPITAL_OUTLAY_EXPENDITURE      float64\n",
       "GRADES_PK_G                     float64\n",
       "GRADES_KG_G                     float64\n",
       "GRADES_4_G                      float64\n",
       "GRADES_8_G                      float64\n",
       "GRADES_12_G                     float64\n",
       "GRADES_1_8_G                    float64\n",
       "GRADES_9_12_G                   float64\n",
       "GRADES_ALL_G                    float64\n",
       "AVG_MATH_8_SCORE                float64\n",
       "AVG_READING_4_SCORE             float64\n",
       "AVG_READING_8_SCORE             float64\n",
       "EXPENDITURE_PER_STUDENT         float64\n",
       "STATE_CAT                       float64\n",
       "dtype: object"
      ]
     },
     "execution_count": 68,
     "metadata": {},
     "output_type": "execute_result"
    }
   ],
   "source": [
    "X_train.dtypes"
   ]
  },
  {
   "cell_type": "markdown",
   "metadata": {},
   "source": [
    "<h2> Prediction </h2>"
   ]
  },
  {
   "cell_type": "markdown",
   "metadata": {},
   "source": [
    "ML Models [Resource](https://medium.com/@vijaya.beeravalli/comparison-of-machine-learning-classification-models-for-credit-card-default-data-c3cf805c9a5a)"
   ]
  },
  {
   "cell_type": "code",
   "execution_count": 71,
   "metadata": {},
   "outputs": [],
   "source": [
    "# import your sklearn class here\n",
    "from lightgbm import LGBMRegressor"
   ]
  },
  {
   "cell_type": "code",
   "execution_count": 72,
   "metadata": {},
   "outputs": [],
   "source": [
    "# create your model here\n",
    "model = LGBMRegressor(random_state=42)"
   ]
  },
  {
   "cell_type": "code",
   "execution_count": 73,
   "metadata": {},
   "outputs": [
    {
     "data": {
      "text/plain": [
       "LGBMRegressor(random_state=42)"
      ]
     },
     "execution_count": 73,
     "metadata": {},
     "output_type": "execute_result"
    }
   ],
   "source": [
    "model.fit(X_train, y_train)"
   ]
  },
  {
   "cell_type": "code",
   "execution_count": 74,
   "metadata": {},
   "outputs": [],
   "source": [
    "y_pred = model.predict(X_test)"
   ]
  },
  {
   "cell_type": "markdown",
   "metadata": {},
   "source": [
    "## Evaluation"
   ]
  },
  {
   "cell_type": "markdown",
   "metadata": {},
   "source": [
    "Choose some metrics to evaluate the performance of your model, some of them are mentioned in the tutorial."
   ]
  },
  {
   "cell_type": "code",
   "execution_count": 88,
   "metadata": {},
   "outputs": [
    {
     "data": {
      "text/plain": [
       "0.9444937388127723"
      ]
     },
     "execution_count": 88,
     "metadata": {},
     "output_type": "execute_result"
    }
   ],
   "source": [
    "res = y_pred - y_test\n",
    "RMSE = np.sqrt(abs(res.mean()))\n",
    "RMSE"
   ]
  },
  {
   "cell_type": "markdown",
   "metadata": {},
   "source": [
    "We have copied over the graphs that visualize the model's performance on the training and testing set. \n",
    "\n",
    "Change `col_name` and modify the call to `plt.ylabel()` to isolate how a single predictor affects the model."
   ]
  },
  {
   "cell_type": "code",
   "execution_count": 90,
   "metadata": {},
   "outputs": [
    {
     "data": {
      "text/plain": [
       "Text(0.5, 1.0, 'Model Behavior On Training Set')"
      ]
     },
     "execution_count": 90,
     "metadata": {},
     "output_type": "execute_result"
    },
    {
     "data": {
      "image/png": "[encoded data removed]",
      "text/plain": [
       "<Figure size 864x432 with 1 Axes>"
      ]
     },
     "metadata": {
      "needs_background": "light"
     },
     "output_type": "display_data"
    }
   ],
   "source": [
    "col_name = 'EXPENDITURE_PER_STUDENT'\n",
    "\n",
    "f = plt.figure(figsize=(12,6))\n",
    "plt.scatter(X_train[col_name], y_train, color = \"red\")\n",
    "plt.scatter(X_train[col_name], model.predict(X_train), color = \"green\")\n",
    "\n",
    "plt.legend(['True Training','Predicted Training'])\n",
    "plt.xlabel(col_name)\n",
    "plt.ylabel('NAME OF THE PREDICTOR')\n",
    "plt.title(\"Model Behavior On Training Set\")"
   ]
  },
  {
   "cell_type": "code",
   "execution_count": null,
   "metadata": {},
   "outputs": [],
   "source": [
    "# col_name = 'COLUMN NAME OF ONE PREDICTOR\"\n",
    "\n",
    "# f = plt.figure(figsize=(12,6))\n",
    "# plt.scatter(X_test[col_name], y_test, color = \"blue\")\n",
    "# plt.scatter(X_test[col_name], model.predict(X_test), color = \"black\")\n",
    "\n",
    "# plt.legend(['True testing','Predicted testing'])\n",
    "# plt.xlabel(col_name)\n",
    "# plt.ylabel('NAME OF THE PREDICTOR')\n",
    "# plt.title(\"Model Behavior on Testing Set\")"
   ]
  },
  {
   "cell_type": "markdown",
   "metadata": {},
   "source": [
    "<h2> Summary </h2>"
   ]
  },
  {
   "cell_type": "markdown",
   "metadata": {},
   "source": [
    "I think my model performs extremely well, given a RMSE of less than one. I am very impressed with the feature EXPENDITURE_PER_STUDENT I created, I think if I were to look into feature importances, that would be a very important feature. Overall, I am quite satisfied with my Pandas and ML skills as I tried to do the checkpoints without needing too much help from the Tutorial, it was a good refresher.\n",
    "\n",
    "There may be a possible data leak somewhere, or my model is overfitting, based on the suprisingly good performance it had.\n",
    "\n",
    "My Kaggle: https://www.kaggle.com/leonliur."
   ]
  },
  {
   "cell_type": "markdown",
   "metadata": {},
   "source": []
  }
 ],
 "metadata": {
  "kernelspec": {
   "display_name": "Python 3.9.0 64-bit",
   "language": "python",
   "name": "python3"
  },
  "language_info": {
   "codemirror_mode": {
    "name": "ipython",
    "version": 3
   },
   "file_extension": ".py",
   "mimetype": "text/x-python",
   "name": "python",
   "nbconvert_exporter": "python",
   "pygments_lexer": "ipython3",
   "version": "3.9.7"
  },
  "vscode": {
   "interpreter": {
    "hash": "6cf8df3ff69f85f626faf55c10df6fe2cb9d1236b4dc73844ee4dc01369c2c99"
   }
  }
 },
 "nbformat": 4,
 "nbformat_minor": 4
}
